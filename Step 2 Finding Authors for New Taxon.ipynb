{
 "cells": [
  {
   "cell_type": "code",
   "execution_count": 1,
   "metadata": {},
   "outputs": [],
   "source": [
    "import pandas as pd\n",
    "import numpy as np"
   ]
  },
  {
   "cell_type": "markdown",
   "metadata": {},
   "source": [
    "## Read in new species to upload"
   ]
  },
  {
   "cell_type": "code",
   "execution_count": 2,
   "metadata": {},
   "outputs": [
    {
     "data": {
      "text/html": [
       "<div>\n",
       "<style scoped>\n",
       "    .dataframe tbody tr th:only-of-type {\n",
       "        vertical-align: middle;\n",
       "    }\n",
       "\n",
       "    .dataframe tbody tr th {\n",
       "        vertical-align: top;\n",
       "    }\n",
       "\n",
       "    .dataframe thead th {\n",
       "        text-align: right;\n",
       "    }\n",
       "</style>\n",
       "<table border=\"1\" class=\"dataframe\">\n",
       "  <thead>\n",
       "    <tr style=\"text-align: right;\">\n",
       "      <th></th>\n",
       "      <th>Phylum</th>\n",
       "      <th>Class</th>\n",
       "      <th>Order</th>\n",
       "      <th>Family</th>\n",
       "      <th>Subfamily</th>\n",
       "      <th>Genus</th>\n",
       "      <th>Scientific Name</th>\n",
       "      <th>tax_count</th>\n",
       "      <th>Species</th>\n",
       "      <th>BOLD Name</th>\n",
       "    </tr>\n",
       "  </thead>\n",
       "  <tbody>\n",
       "    <tr>\n",
       "      <th>0</th>\n",
       "      <td>Arthropoda</td>\n",
       "      <td>Insecta</td>\n",
       "      <td>Diptera</td>\n",
       "      <td>Acroceridae</td>\n",
       "      <td>Acrocerinae</td>\n",
       "      <td>Ogcodes</td>\n",
       "      <td>Ogcodes dispar</td>\n",
       "      <td>1</td>\n",
       "      <td>dispar</td>\n",
       "      <td>Ogcodes dispar</td>\n",
       "    </tr>\n",
       "    <tr>\n",
       "      <th>1</th>\n",
       "      <td>Arthropoda</td>\n",
       "      <td>Insecta</td>\n",
       "      <td>Diptera</td>\n",
       "      <td>Acroceridae</td>\n",
       "      <td>Acrocerinae</td>\n",
       "      <td>Turbopsebius</td>\n",
       "      <td>Turbopsebius brunnipennis</td>\n",
       "      <td>1</td>\n",
       "      <td>brunnipennis</td>\n",
       "      <td>Turbopsebius brunnipennis</td>\n",
       "    </tr>\n",
       "    <tr>\n",
       "      <th>2</th>\n",
       "      <td>Arthropoda</td>\n",
       "      <td>Insecta</td>\n",
       "      <td>Diptera</td>\n",
       "      <td>Acroceridae</td>\n",
       "      <td>Panopinae</td>\n",
       "      <td>Apsona</td>\n",
       "      <td>Apsona muscaria</td>\n",
       "      <td>1</td>\n",
       "      <td>muscaria</td>\n",
       "      <td>Apsona muscaria</td>\n",
       "    </tr>\n",
       "    <tr>\n",
       "      <th>3</th>\n",
       "      <td>Arthropoda</td>\n",
       "      <td>Insecta</td>\n",
       "      <td>Diptera</td>\n",
       "      <td>Acroceridae</td>\n",
       "      <td>Philopotinae</td>\n",
       "      <td>Megalybus</td>\n",
       "      <td>Megalybus pictus</td>\n",
       "      <td>1</td>\n",
       "      <td>pictus</td>\n",
       "      <td>Megalybus pictus</td>\n",
       "    </tr>\n",
       "    <tr>\n",
       "      <th>4</th>\n",
       "      <td>Arthropoda</td>\n",
       "      <td>Insecta</td>\n",
       "      <td>Diptera</td>\n",
       "      <td>Anthomyiidae</td>\n",
       "      <td>Anthomyiinae</td>\n",
       "      <td>Lasiomma</td>\n",
       "      <td>Lasiomma collini</td>\n",
       "      <td>1</td>\n",
       "      <td>collini</td>\n",
       "      <td>Lasiomma collini</td>\n",
       "    </tr>\n",
       "  </tbody>\n",
       "</table>\n",
       "</div>"
      ],
      "text/plain": [
       "       Phylum    Class    Order        Family     Subfamily         Genus  \\\n",
       "0  Arthropoda  Insecta  Diptera   Acroceridae   Acrocerinae       Ogcodes   \n",
       "1  Arthropoda  Insecta  Diptera   Acroceridae   Acrocerinae  Turbopsebius   \n",
       "2  Arthropoda  Insecta  Diptera   Acroceridae     Panopinae        Apsona   \n",
       "3  Arthropoda  Insecta  Diptera   Acroceridae  Philopotinae     Megalybus   \n",
       "4  Arthropoda  Insecta  Diptera  Anthomyiidae  Anthomyiinae      Lasiomma   \n",
       "\n",
       "             Scientific Name  tax_count       Species  \\\n",
       "0             Ogcodes dispar          1        dispar   \n",
       "1  Turbopsebius brunnipennis          1  brunnipennis   \n",
       "2            Apsona muscaria          1      muscaria   \n",
       "3           Megalybus pictus          1        pictus   \n",
       "4           Lasiomma collini          1       collini   \n",
       "\n",
       "                   BOLD Name  \n",
       "0             Ogcodes dispar  \n",
       "1  Turbopsebius brunnipennis  \n",
       "2            Apsona muscaria  \n",
       "3           Megalybus pictus  \n",
       "4           Lasiomma collini  "
      ]
     },
     "execution_count": 2,
     "metadata": {},
     "output_type": "execute_result"
    }
   ],
   "source": [
    "unmatched_taxa = pd.read_csv('processed_data/taxa_unmatched.tsv', sep='\\t')\n",
    "unmatched_taxa.head()"
   ]
  },
  {
   "cell_type": "code",
   "execution_count": 3,
   "metadata": {},
   "outputs": [
    {
     "data": {
      "text/plain": [
       "388"
      ]
     },
     "execution_count": 3,
     "metadata": {},
     "output_type": "execute_result"
    }
   ],
   "source": [
    "taxa_to_search = unmatched_taxa[unmatched_taxa['Species'] != 'unidentified']\n",
    "len(taxa_to_search)"
   ]
  },
  {
   "cell_type": "markdown",
   "metadata": {},
   "source": [
    "## Use GBIF webservice to find authors for these new species"
   ]
  },
  {
   "cell_type": "code",
   "execution_count": 7,
   "metadata": {},
   "outputs": [],
   "source": [
    "import requests\n",
    "from unidecode import unidecode"
   ]
  },
  {
   "cell_type": "code",
   "execution_count": 8,
   "metadata": {},
   "outputs": [],
   "source": [
    "def gbif_author_search(name):\n",
    "    search_url = 'http://api.gbif.org/v1/species/match'\n",
    "    params = {'kingdom':'Animalia',\n",
    "              'name':name,\n",
    "              'verbose':'true'}\n",
    "    r = requests.get(search_url, params)\n",
    "    search_results = r.json()\n",
    "    confidence = search_results['confidence']\n",
    "    if (int(confidence) > 90) and (search_results['matchType'] == 'EXACT'):\n",
    "        gbif_id = search_results['usageKey']\n",
    "        fetch_url = 'http://api.gbif.org/v1/species/{}'.format(gbif_id)\n",
    "        r = requests.get(fetch_url)\n",
    "        fetch_results = r.json()\n",
    "        authorship = unidecode(fetch_results['authorship'])\n",
    "        return authorship\n",
    "    return np.nan"
   ]
  },
  {
   "cell_type": "code",
   "execution_count": 9,
   "metadata": {},
   "outputs": [
    {
     "name": "stderr",
     "output_type": "stream",
     "text": [
      "/Users/miketrizna/miniconda3/envs/emu/lib/python3.6/site-packages/ipykernel/__main__.py:1: SettingWithCopyWarning: \n",
      "A value is trying to be set on a copy of a slice from a DataFrame.\n",
      "Try using .loc[row_indexer,col_indexer] = value instead\n",
      "\n",
      "See the caveats in the documentation: http://pandas.pydata.org/pandas-docs/stable/indexing.html#indexing-view-versus-copy\n",
      "  if __name__ == '__main__':\n"
     ]
    }
   ],
   "source": [
    "taxa_to_search['gbif_authorship'] = taxa_to_search['BOLD Name'].apply(gbif_author_search)"
   ]
  },
  {
   "cell_type": "code",
   "execution_count": 10,
   "metadata": {},
   "outputs": [
    {
     "data": {
      "text/html": [
       "<div>\n",
       "<style scoped>\n",
       "    .dataframe tbody tr th:only-of-type {\n",
       "        vertical-align: middle;\n",
       "    }\n",
       "\n",
       "    .dataframe tbody tr th {\n",
       "        vertical-align: top;\n",
       "    }\n",
       "\n",
       "    .dataframe thead th {\n",
       "        text-align: right;\n",
       "    }\n",
       "</style>\n",
       "<table border=\"1\" class=\"dataframe\">\n",
       "  <thead>\n",
       "    <tr style=\"text-align: right;\">\n",
       "      <th></th>\n",
       "      <th>Phylum</th>\n",
       "      <th>Class</th>\n",
       "      <th>Order</th>\n",
       "      <th>Family</th>\n",
       "      <th>Subfamily</th>\n",
       "      <th>Genus</th>\n",
       "      <th>Scientific Name</th>\n",
       "      <th>tax_count</th>\n",
       "      <th>Species</th>\n",
       "      <th>BOLD Name</th>\n",
       "      <th>gbif_authorship</th>\n",
       "    </tr>\n",
       "  </thead>\n",
       "  <tbody>\n",
       "    <tr>\n",
       "      <th>0</th>\n",
       "      <td>Arthropoda</td>\n",
       "      <td>Insecta</td>\n",
       "      <td>Diptera</td>\n",
       "      <td>Acroceridae</td>\n",
       "      <td>Acrocerinae</td>\n",
       "      <td>Ogcodes</td>\n",
       "      <td>Ogcodes dispar</td>\n",
       "      <td>1</td>\n",
       "      <td>dispar</td>\n",
       "      <td>Ogcodes dispar</td>\n",
       "      <td>(Macquart, 1855)</td>\n",
       "    </tr>\n",
       "    <tr>\n",
       "      <th>1</th>\n",
       "      <td>Arthropoda</td>\n",
       "      <td>Insecta</td>\n",
       "      <td>Diptera</td>\n",
       "      <td>Acroceridae</td>\n",
       "      <td>Acrocerinae</td>\n",
       "      <td>Turbopsebius</td>\n",
       "      <td>Turbopsebius brunnipennis</td>\n",
       "      <td>1</td>\n",
       "      <td>brunnipennis</td>\n",
       "      <td>Turbopsebius brunnipennis</td>\n",
       "      <td>(Sabrosky, 1948)</td>\n",
       "    </tr>\n",
       "    <tr>\n",
       "      <th>2</th>\n",
       "      <td>Arthropoda</td>\n",
       "      <td>Insecta</td>\n",
       "      <td>Diptera</td>\n",
       "      <td>Acroceridae</td>\n",
       "      <td>Panopinae</td>\n",
       "      <td>Apsona</td>\n",
       "      <td>Apsona muscaria</td>\n",
       "      <td>1</td>\n",
       "      <td>muscaria</td>\n",
       "      <td>Apsona muscaria</td>\n",
       "      <td>Westwood, 1876</td>\n",
       "    </tr>\n",
       "    <tr>\n",
       "      <th>3</th>\n",
       "      <td>Arthropoda</td>\n",
       "      <td>Insecta</td>\n",
       "      <td>Diptera</td>\n",
       "      <td>Acroceridae</td>\n",
       "      <td>Philopotinae</td>\n",
       "      <td>Megalybus</td>\n",
       "      <td>Megalybus pictus</td>\n",
       "      <td>1</td>\n",
       "      <td>pictus</td>\n",
       "      <td>Megalybus pictus</td>\n",
       "      <td>Philippi, 1865</td>\n",
       "    </tr>\n",
       "    <tr>\n",
       "      <th>4</th>\n",
       "      <td>Arthropoda</td>\n",
       "      <td>Insecta</td>\n",
       "      <td>Diptera</td>\n",
       "      <td>Anthomyiidae</td>\n",
       "      <td>Anthomyiinae</td>\n",
       "      <td>Lasiomma</td>\n",
       "      <td>Lasiomma collini</td>\n",
       "      <td>1</td>\n",
       "      <td>collini</td>\n",
       "      <td>Lasiomma collini</td>\n",
       "      <td>(Ringdahl, 1929)</td>\n",
       "    </tr>\n",
       "  </tbody>\n",
       "</table>\n",
       "</div>"
      ],
      "text/plain": [
       "       Phylum    Class    Order        Family     Subfamily         Genus  \\\n",
       "0  Arthropoda  Insecta  Diptera   Acroceridae   Acrocerinae       Ogcodes   \n",
       "1  Arthropoda  Insecta  Diptera   Acroceridae   Acrocerinae  Turbopsebius   \n",
       "2  Arthropoda  Insecta  Diptera   Acroceridae     Panopinae        Apsona   \n",
       "3  Arthropoda  Insecta  Diptera   Acroceridae  Philopotinae     Megalybus   \n",
       "4  Arthropoda  Insecta  Diptera  Anthomyiidae  Anthomyiinae      Lasiomma   \n",
       "\n",
       "             Scientific Name  tax_count       Species  \\\n",
       "0             Ogcodes dispar          1        dispar   \n",
       "1  Turbopsebius brunnipennis          1  brunnipennis   \n",
       "2            Apsona muscaria          1      muscaria   \n",
       "3           Megalybus pictus          1        pictus   \n",
       "4           Lasiomma collini          1       collini   \n",
       "\n",
       "                   BOLD Name    gbif_authorship  \n",
       "0             Ogcodes dispar   (Macquart, 1855)  \n",
       "1  Turbopsebius brunnipennis   (Sabrosky, 1948)  \n",
       "2            Apsona muscaria     Westwood, 1876  \n",
       "3           Megalybus pictus     Philippi, 1865  \n",
       "4           Lasiomma collini   (Ringdahl, 1929)  "
      ]
     },
     "execution_count": 10,
     "metadata": {},
     "output_type": "execute_result"
    }
   ],
   "source": [
    "taxa_to_search.head()"
   ]
  },
  {
   "cell_type": "code",
   "execution_count": 11,
   "metadata": {},
   "outputs": [
    {
     "data": {
      "text/plain": [
       "17"
      ]
     },
     "execution_count": 11,
     "metadata": {},
     "output_type": "execute_result"
    }
   ],
   "source": [
    "len(taxa_to_search[pd.isnull(taxa_to_search['gbif_authorship'])])"
   ]
  },
  {
   "cell_type": "code",
   "execution_count": 12,
   "metadata": {},
   "outputs": [
    {
     "data": {
      "text/html": [
       "<div>\n",
       "<style scoped>\n",
       "    .dataframe tbody tr th:only-of-type {\n",
       "        vertical-align: middle;\n",
       "    }\n",
       "\n",
       "    .dataframe tbody tr th {\n",
       "        vertical-align: top;\n",
       "    }\n",
       "\n",
       "    .dataframe thead th {\n",
       "        text-align: right;\n",
       "    }\n",
       "</style>\n",
       "<table border=\"1\" class=\"dataframe\">\n",
       "  <thead>\n",
       "    <tr style=\"text-align: right;\">\n",
       "      <th></th>\n",
       "      <th>Phylum</th>\n",
       "      <th>Class</th>\n",
       "      <th>Order</th>\n",
       "      <th>Family</th>\n",
       "      <th>Subfamily</th>\n",
       "      <th>Genus</th>\n",
       "      <th>Scientific Name</th>\n",
       "      <th>tax_count</th>\n",
       "      <th>Species</th>\n",
       "      <th>BOLD Name</th>\n",
       "      <th>gbif_authorship</th>\n",
       "    </tr>\n",
       "  </thead>\n",
       "  <tbody>\n",
       "    <tr>\n",
       "      <th>76</th>\n",
       "      <td>Arthropoda</td>\n",
       "      <td>Insecta</td>\n",
       "      <td>Diptera</td>\n",
       "      <td>Asilidae</td>\n",
       "      <td>Ommatiinae</td>\n",
       "      <td>Emphysomera</td>\n",
       "      <td>Emphysomera nigra</td>\n",
       "      <td>2</td>\n",
       "      <td>nigra</td>\n",
       "      <td>Emphysomera nigra</td>\n",
       "      <td>NaN</td>\n",
       "    </tr>\n",
       "    <tr>\n",
       "      <th>77</th>\n",
       "      <td>Arthropoda</td>\n",
       "      <td>Insecta</td>\n",
       "      <td>Diptera</td>\n",
       "      <td>Asilidae</td>\n",
       "      <td>Ommatiinae</td>\n",
       "      <td>Longibeccus</td>\n",
       "      <td>Longibeccus fuscovittatus</td>\n",
       "      <td>1</td>\n",
       "      <td>fuscovittatus</td>\n",
       "      <td>Longibeccus fuscovittatus</td>\n",
       "      <td>NaN</td>\n",
       "    </tr>\n",
       "    <tr>\n",
       "      <th>92</th>\n",
       "      <td>Arthropoda</td>\n",
       "      <td>Insecta</td>\n",
       "      <td>Diptera</td>\n",
       "      <td>Calliphoridae</td>\n",
       "      <td>Ameniinae</td>\n",
       "      <td>Stilbomyella</td>\n",
       "      <td>Stilbomyella nigrocostalis</td>\n",
       "      <td>1</td>\n",
       "      <td>nigrocostalis</td>\n",
       "      <td>Stilbomyella nigrocostalis</td>\n",
       "      <td>NaN</td>\n",
       "    </tr>\n",
       "    <tr>\n",
       "      <th>118</th>\n",
       "      <td>Arthropoda</td>\n",
       "      <td>Insecta</td>\n",
       "      <td>Diptera</td>\n",
       "      <td>Calliphoridae</td>\n",
       "      <td>Mesembrinellinae</td>\n",
       "      <td>Souzalopesiella</td>\n",
       "      <td>Souzalopesiella facialis</td>\n",
       "      <td>1</td>\n",
       "      <td>facialis</td>\n",
       "      <td>Souzalopesiella facialis</td>\n",
       "      <td>NaN</td>\n",
       "    </tr>\n",
       "    <tr>\n",
       "      <th>127</th>\n",
       "      <td>Arthropoda</td>\n",
       "      <td>Insecta</td>\n",
       "      <td>Diptera</td>\n",
       "      <td>Muscidae</td>\n",
       "      <td>Coenosiinae</td>\n",
       "      <td>Syllimnophora</td>\n",
       "      <td>Syllimnophora atrovottata</td>\n",
       "      <td>1</td>\n",
       "      <td>atrovottata</td>\n",
       "      <td>Syllimnophora atrovottata</td>\n",
       "      <td>NaN</td>\n",
       "    </tr>\n",
       "  </tbody>\n",
       "</table>\n",
       "</div>"
      ],
      "text/plain": [
       "         Phylum    Class    Order         Family         Subfamily  \\\n",
       "76   Arthropoda  Insecta  Diptera       Asilidae        Ommatiinae   \n",
       "77   Arthropoda  Insecta  Diptera       Asilidae        Ommatiinae   \n",
       "92   Arthropoda  Insecta  Diptera  Calliphoridae         Ameniinae   \n",
       "118  Arthropoda  Insecta  Diptera  Calliphoridae  Mesembrinellinae   \n",
       "127  Arthropoda  Insecta  Diptera       Muscidae       Coenosiinae   \n",
       "\n",
       "               Genus             Scientific Name  tax_count        Species  \\\n",
       "76       Emphysomera           Emphysomera nigra          2          nigra   \n",
       "77       Longibeccus   Longibeccus fuscovittatus          1  fuscovittatus   \n",
       "92      Stilbomyella  Stilbomyella nigrocostalis          1  nigrocostalis   \n",
       "118  Souzalopesiella    Souzalopesiella facialis          1       facialis   \n",
       "127    Syllimnophora   Syllimnophora atrovottata          1    atrovottata   \n",
       "\n",
       "                      BOLD Name gbif_authorship  \n",
       "76            Emphysomera nigra             NaN  \n",
       "77    Longibeccus fuscovittatus             NaN  \n",
       "92   Stilbomyella nigrocostalis             NaN  \n",
       "118    Souzalopesiella facialis             NaN  \n",
       "127   Syllimnophora atrovottata             NaN  "
      ]
     },
     "execution_count": 12,
     "metadata": {},
     "output_type": "execute_result"
    }
   ],
   "source": [
    "taxa_to_search[pd.isnull(taxa_to_search['gbif_authorship'])].head()"
   ]
  },
  {
   "cell_type": "code",
   "execution_count": null,
   "metadata": {},
   "outputs": [],
   "source": []
  },
  {
   "cell_type": "markdown",
   "metadata": {},
   "source": [
    "## Export new author names"
   ]
  },
  {
   "cell_type": "code",
   "execution_count": 13,
   "metadata": {},
   "outputs": [
    {
     "data": {
      "text/plain": [
       "371"
      ]
     },
     "execution_count": 13,
     "metadata": {},
     "output_type": "execute_result"
    }
   ],
   "source": [
    "authors_found = taxa_to_search[pd.notnull(taxa_to_search['gbif_authorship'])]\n",
    "len(authors_found)"
   ]
  },
  {
   "cell_type": "code",
   "execution_count": 14,
   "metadata": {},
   "outputs": [],
   "source": [
    "authors_found.to_csv('processed_data/taxa_unmatched_authors_found.tsv',\n",
    "                     index = False, sep='\\t')"
   ]
  },
  {
   "cell_type": "markdown",
   "metadata": {},
   "source": [
    "## Export species whose authors could not be found"
   ]
  },
  {
   "cell_type": "code",
   "execution_count": 15,
   "metadata": {},
   "outputs": [
    {
     "data": {
      "text/plain": [
       "17"
      ]
     },
     "execution_count": 15,
     "metadata": {},
     "output_type": "execute_result"
    }
   ],
   "source": [
    "authors_lost = taxa_to_search[pd.isnull(taxa_to_search['gbif_authorship'])]\n",
    "len(authors_lost)"
   ]
  },
  {
   "cell_type": "code",
   "execution_count": 16,
   "metadata": {},
   "outputs": [],
   "source": [
    "authors_lost.to_csv('processed_data/taxa_unmatched_authors_lost.tsv',\n",
    "                     index = False, sep='\\t')"
   ]
  },
  {
   "cell_type": "code",
   "execution_count": null,
   "metadata": {},
   "outputs": [],
   "source": []
  }
 ],
 "metadata": {
  "kernelspec": {
   "display_name": "Python 3",
   "language": "python",
   "name": "python3"
  },
  "language_info": {
   "codemirror_mode": {
    "name": "ipython",
    "version": 3
   },
   "file_extension": ".py",
   "mimetype": "text/x-python",
   "name": "python",
   "nbconvert_exporter": "python",
   "pygments_lexer": "ipython3",
   "version": "3.6.6"
  }
 },
 "nbformat": 4,
 "nbformat_minor": 2
}
