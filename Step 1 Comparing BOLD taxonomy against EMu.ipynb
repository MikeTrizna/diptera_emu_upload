{
 "cells": [
  {
   "cell_type": "code",
   "execution_count": 1,
   "metadata": {},
   "outputs": [],
   "source": [
    "import pandas as pd\n",
    "import numpy as np"
   ]
  },
  {
   "cell_type": "markdown",
   "metadata": {},
   "source": [
    "## Read in BOLD spreadsheet"
   ]
  },
  {
   "cell_type": "code",
   "execution_count": 2,
   "metadata": {},
   "outputs": [],
   "source": [
    "bold_file = 'raw_data/asilo_bold.xlsx'"
   ]
  },
  {
   "cell_type": "code",
   "execution_count": 3,
   "metadata": {},
   "outputs": [
    {
     "name": "stdout",
     "output_type": "stream",
     "text": [
      "Index(['Project Code', 'Process ID', 'Sample ID', 'Field ID', 'BIN',\n",
      "       'Catalog Num', 'COI-5P Seq. Length', 'COI-5P Trace Count',\n",
      "       'COI-5P Accession', 'Image Count', 'Barcode Compliant', 'Contamination',\n",
      "       'Stop Codon', 'Flagged Record', 'Collection Date', 'Identification',\n",
      "       'Life Stage', 'Extra Info', 'Voucher Type', 'Institution', 'Notes'],\n",
      "      dtype='object')\n",
      "<class 'pandas.core.frame.DataFrame'>\n",
      "RangeIndex: 941 entries, 0 to 940\n",
      "Data columns (total 12 columns):\n",
      "Project Code          941 non-null object\n",
      "Process ID            941 non-null object\n",
      "Sample ID             941 non-null object\n",
      "BIN                   319 non-null object\n",
      "COI-5P Seq. Length    878 non-null object\n",
      "COI-5P Trace Count    843 non-null float64\n",
      "COI-5P Accession      506 non-null object\n",
      "Image Count           941 non-null int64\n",
      "Barcode Compliant     941 non-null object\n",
      "Contamination         0 non-null float64\n",
      "Stop Codon            0 non-null float64\n",
      "Flagged Record        30 non-null object\n",
      "dtypes: float64(3), int64(1), object(8)\n",
      "memory usage: 88.3+ KB\n"
     ]
    }
   ],
   "source": [
    "bold_df = pd.read_excel(bold_file, sheet_name='Lab Sheet', skiprows=2)\n",
    "drop_cols = ['Field ID','Catalog Num','Collection Date','Identification',\n",
    "             'Life Stage','Extra Info','Voucher Type','Institution','Notes']\n",
    "print(bold_df.columns)\n",
    "keep_cols = [col for col in bold_df.columns if col not in drop_cols]\n",
    "bold_df = bold_df[keep_cols]\n",
    "bold_df.info()"
   ]
  },
  {
   "cell_type": "code",
   "execution_count": 4,
   "metadata": {},
   "outputs": [
    {
     "name": "stdout",
     "output_type": "stream",
     "text": [
      "<class 'pandas.core.frame.DataFrame'>\n",
      "RangeIndex: 941 entries, 0 to 940\n",
      "Data columns (total 6 columns):\n",
      "Sample ID              941 non-null object\n",
      "Field ID               377 non-null object\n",
      "Museum ID              941 non-null object\n",
      "Collection Code        941 non-null object\n",
      "Institution Storing    941 non-null object\n",
      "Unnamed: 5             0 non-null float64\n",
      "dtypes: float64(1), object(5)\n",
      "memory usage: 44.2+ KB\n"
     ]
    }
   ],
   "source": [
    "voucher_df = pd.read_excel(bold_file, sheet_name='Voucher Info', skiprows=2)\n",
    "voucher_df.info()"
   ]
  },
  {
   "cell_type": "code",
   "execution_count": 5,
   "metadata": {},
   "outputs": [
    {
     "name": "stdout",
     "output_type": "stream",
     "text": [
      "<class 'pandas.core.frame.DataFrame'>\n",
      "RangeIndex: 941 entries, 0 to 940\n",
      "Data columns (total 14 columns):\n",
      "Sample ID                941 non-null object\n",
      "Phylum                   941 non-null object\n",
      "Class                    941 non-null object\n",
      "Order                    941 non-null object\n",
      "Family                   941 non-null object\n",
      "Subfamily                748 non-null object\n",
      "Tribe                    0 non-null float64\n",
      "Genus                    939 non-null object\n",
      "Species                  703 non-null object\n",
      "Subspecies               0 non-null float64\n",
      "Identifier               905 non-null object\n",
      "Identifier Email         147 non-null object\n",
      "Identification Method    343 non-null object\n",
      "Taxonomy Notes           184 non-null object\n",
      "dtypes: float64(2), object(12)\n",
      "memory usage: 103.0+ KB\n"
     ]
    }
   ],
   "source": [
    "tax_df = pd.read_excel(bold_file, sheet_name='Taxonomy', skiprows=2)\n",
    "tax_df.info()"
   ]
  },
  {
   "cell_type": "code",
   "execution_count": 6,
   "metadata": {},
   "outputs": [
    {
     "name": "stdout",
     "output_type": "stream",
     "text": [
      "<class 'pandas.core.frame.DataFrame'>\n",
      "RangeIndex: 941 entries, 0 to 940\n",
      "Data columns (total 11 columns):\n",
      "Sample ID               941 non-null object\n",
      "Sex                     175 non-null object\n",
      "Reproduction            4 non-null object\n",
      "Life Stage              0 non-null float64\n",
      "Extra Info              31 non-null object\n",
      "Notes                   233 non-null object\n",
      "Voucher Status          95 non-null object\n",
      "Tissue Descriptor       95 non-null object\n",
      "External URLs           0 non-null float64\n",
      "Associated Taxa         72 non-null object\n",
      "Associated Specimens    8 non-null object\n",
      "dtypes: float64(2), object(9)\n",
      "memory usage: 80.9+ KB\n"
     ]
    }
   ],
   "source": [
    "specimen_df = pd.read_excel(bold_file, sheet_name='Specimen Details', skiprows=2)\n",
    "specimen_df.info()"
   ]
  },
  {
   "cell_type": "code",
   "execution_count": 7,
   "metadata": {},
   "outputs": [
    {
     "name": "stdout",
     "output_type": "stream",
     "text": [
      "<class 'pandas.core.frame.DataFrame'>\n",
      "RangeIndex: 941 entries, 0 to 940\n",
      "Data columns (total 23 columns):\n",
      "Sample ID                   941 non-null object\n",
      "Collectors                  895 non-null object\n",
      "Collection Date             939 non-null object\n",
      "Country/Ocean               941 non-null object\n",
      "State/Province              544 non-null object\n",
      "Region                      257 non-null object\n",
      "Sector                      10 non-null object\n",
      "Exact Site                  926 non-null object\n",
      "Lat                         325 non-null float64\n",
      "Lon                         326 non-null float64\n",
      "Elev                        287 non-null float64\n",
      "Depth                       0 non-null float64\n",
      "Elevation Precision         30 non-null float64\n",
      "Depth Precision             0 non-null float64\n",
      "GPS Source                  1 non-null object\n",
      "Coordinate Accuracy         0 non-null float64\n",
      "Event Time                  0 non-null float64\n",
      "Collection Date Accuracy    322 non-null float64\n",
      "Habitat                     63 non-null object\n",
      "Sampling Protocol           141 non-null object\n",
      "Collection Notes            73 non-null object\n",
      "Site Code                   0 non-null float64\n",
      "Collection Event ID         0 non-null float64\n",
      "dtypes: float64(11), object(12)\n",
      "memory usage: 169.2+ KB\n"
     ]
    }
   ],
   "source": [
    "collection_df = pd.read_excel(bold_file, sheet_name='Collection Data', skiprows=2)\n",
    "collection_df.info()"
   ]
  },
  {
   "cell_type": "code",
   "execution_count": 8,
   "metadata": {},
   "outputs": [
    {
     "name": "stdout",
     "output_type": "stream",
     "text": [
      "<class 'pandas.core.frame.DataFrame'>\n",
      "Int64Index: 941 entries, 0 to 940\n",
      "Data columns (total 62 columns):\n",
      "Project Code                941 non-null object\n",
      "Process ID                  941 non-null object\n",
      "Sample ID                   941 non-null object\n",
      "BIN                         319 non-null object\n",
      "COI-5P Seq. Length          878 non-null object\n",
      "COI-5P Trace Count          843 non-null float64\n",
      "COI-5P Accession            506 non-null object\n",
      "Image Count                 941 non-null int64\n",
      "Barcode Compliant           941 non-null object\n",
      "Contamination               0 non-null float64\n",
      "Stop Codon                  0 non-null float64\n",
      "Flagged Record              30 non-null object\n",
      "Field ID                    377 non-null object\n",
      "Museum ID                   941 non-null object\n",
      "Collection Code             941 non-null object\n",
      "Institution Storing         941 non-null object\n",
      "Unnamed: 5                  0 non-null float64\n",
      "Phylum                      941 non-null object\n",
      "Class                       941 non-null object\n",
      "Order                       941 non-null object\n",
      "Family                      941 non-null object\n",
      "Subfamily                   748 non-null object\n",
      "Tribe                       0 non-null float64\n",
      "Genus                       939 non-null object\n",
      "Species                     703 non-null object\n",
      "Subspecies                  0 non-null float64\n",
      "Identifier                  905 non-null object\n",
      "Identifier Email            147 non-null object\n",
      "Identification Method       343 non-null object\n",
      "Taxonomy Notes              184 non-null object\n",
      "Sex                         175 non-null object\n",
      "Reproduction                4 non-null object\n",
      "Life Stage                  0 non-null float64\n",
      "Extra Info                  31 non-null object\n",
      "Notes                       233 non-null object\n",
      "Voucher Status              95 non-null object\n",
      "Tissue Descriptor           95 non-null object\n",
      "External URLs               0 non-null float64\n",
      "Associated Taxa             72 non-null object\n",
      "Associated Specimens        8 non-null object\n",
      "Collectors                  895 non-null object\n",
      "Collection Date             939 non-null object\n",
      "Country/Ocean               941 non-null object\n",
      "State/Province              544 non-null object\n",
      "Region                      257 non-null object\n",
      "Sector                      10 non-null object\n",
      "Exact Site                  926 non-null object\n",
      "Lat                         325 non-null float64\n",
      "Lon                         326 non-null float64\n",
      "Elev                        287 non-null float64\n",
      "Depth                       0 non-null float64\n",
      "Elevation Precision         30 non-null float64\n",
      "Depth Precision             0 non-null float64\n",
      "GPS Source                  1 non-null object\n",
      "Coordinate Accuracy         0 non-null float64\n",
      "Event Time                  0 non-null float64\n",
      "Collection Date Accuracy    322 non-null float64\n",
      "Habitat                     63 non-null object\n",
      "Sampling Protocol           141 non-null object\n",
      "Collection Notes            73 non-null object\n",
      "Site Code                   0 non-null float64\n",
      "Collection Event ID         0 non-null float64\n",
      "dtypes: float64(19), int64(1), object(42)\n",
      "memory usage: 463.1+ KB\n"
     ]
    }
   ],
   "source": [
    "for df in [voucher_df, tax_df, specimen_df, collection_df]:\n",
    "    bold_df = bold_df.merge(df, on='Sample ID')\n",
    "bold_df.info()"
   ]
  },
  {
   "cell_type": "code",
   "execution_count": 9,
   "metadata": {},
   "outputs": [
    {
     "name": "stdout",
     "output_type": "stream",
     "text": [
      "<class 'pandas.core.frame.DataFrame'>\n",
      "Int64Index: 941 entries, 0 to 940\n",
      "Data columns (total 49 columns):\n",
      "Project Code                941 non-null object\n",
      "Process ID                  941 non-null object\n",
      "Sample ID                   941 non-null object\n",
      "BIN                         319 non-null object\n",
      "COI-5P Seq. Length          878 non-null object\n",
      "COI-5P Trace Count          843 non-null float64\n",
      "COI-5P Accession            506 non-null object\n",
      "Image Count                 941 non-null int64\n",
      "Barcode Compliant           941 non-null object\n",
      "Flagged Record              30 non-null object\n",
      "Field ID                    377 non-null object\n",
      "Museum ID                   941 non-null object\n",
      "Collection Code             941 non-null object\n",
      "Institution Storing         941 non-null object\n",
      "Phylum                      941 non-null object\n",
      "Class                       941 non-null object\n",
      "Order                       941 non-null object\n",
      "Family                      941 non-null object\n",
      "Subfamily                   748 non-null object\n",
      "Genus                       939 non-null object\n",
      "Species                     703 non-null object\n",
      "Identifier                  905 non-null object\n",
      "Identifier Email            147 non-null object\n",
      "Identification Method       343 non-null object\n",
      "Taxonomy Notes              184 non-null object\n",
      "Sex                         175 non-null object\n",
      "Reproduction                4 non-null object\n",
      "Extra Info                  31 non-null object\n",
      "Notes                       233 non-null object\n",
      "Voucher Status              95 non-null object\n",
      "Tissue Descriptor           95 non-null object\n",
      "Associated Taxa             72 non-null object\n",
      "Associated Specimens        8 non-null object\n",
      "Collectors                  895 non-null object\n",
      "Collection Date             939 non-null object\n",
      "Country/Ocean               941 non-null object\n",
      "State/Province              544 non-null object\n",
      "Region                      257 non-null object\n",
      "Sector                      10 non-null object\n",
      "Exact Site                  926 non-null object\n",
      "Lat                         325 non-null float64\n",
      "Lon                         326 non-null float64\n",
      "Elev                        287 non-null float64\n",
      "Elevation Precision         30 non-null float64\n",
      "GPS Source                  1 non-null object\n",
      "Collection Date Accuracy    322 non-null float64\n",
      "Habitat                     63 non-null object\n",
      "Sampling Protocol           141 non-null object\n",
      "Collection Notes            73 non-null object\n",
      "dtypes: float64(6), int64(1), object(42)\n",
      "memory usage: 367.6+ KB\n"
     ]
    }
   ],
   "source": [
    "bold_df = bold_df.dropna(axis=1, how='all')\n",
    "bold_df.info()"
   ]
  },
  {
   "cell_type": "code",
   "execution_count": 10,
   "metadata": {},
   "outputs": [],
   "source": [
    "bold_df.to_csv('processed_data/asilo_bold.tsv', index=False, sep='\\t')"
   ]
  },
  {
   "cell_type": "markdown",
   "metadata": {},
   "source": [
    "## Pull out taxonomic names, and clean up"
   ]
  },
  {
   "cell_type": "code",
   "execution_count": 11,
   "metadata": {},
   "outputs": [
    {
     "name": "stdout",
     "output_type": "stream",
     "text": [
      "<class 'pandas.core.frame.DataFrame'>\n",
      "RangeIndex: 941 entries, 0 to 940\n",
      "Data columns (total 49 columns):\n",
      "Project Code                941 non-null object\n",
      "Process ID                  941 non-null object\n",
      "Sample ID                   941 non-null object\n",
      "BIN                         319 non-null object\n",
      "COI-5P Seq. Length          878 non-null object\n",
      "COI-5P Trace Count          843 non-null float64\n",
      "COI-5P Accession            506 non-null object\n",
      "Image Count                 941 non-null int64\n",
      "Barcode Compliant           941 non-null object\n",
      "Flagged Record              30 non-null object\n",
      "Field ID                    377 non-null object\n",
      "Museum ID                   941 non-null object\n",
      "Collection Code             941 non-null object\n",
      "Institution Storing         941 non-null object\n",
      "Phylum                      941 non-null object\n",
      "Class                       941 non-null object\n",
      "Order                       941 non-null object\n",
      "Family                      941 non-null object\n",
      "Subfamily                   748 non-null object\n",
      "Genus                       939 non-null object\n",
      "Species                     703 non-null object\n",
      "Identifier                  905 non-null object\n",
      "Identifier Email            147 non-null object\n",
      "Identification Method       343 non-null object\n",
      "Taxonomy Notes              184 non-null object\n",
      "Sex                         175 non-null object\n",
      "Reproduction                4 non-null object\n",
      "Extra Info                  31 non-null object\n",
      "Notes                       233 non-null object\n",
      "Voucher Status              95 non-null object\n",
      "Tissue Descriptor           95 non-null object\n",
      "Associated Taxa             72 non-null object\n",
      "Associated Specimens        8 non-null object\n",
      "Collectors                  895 non-null object\n",
      "Collection Date             939 non-null object\n",
      "Country/Ocean               941 non-null object\n",
      "State/Province              544 non-null object\n",
      "Region                      257 non-null object\n",
      "Sector                      10 non-null object\n",
      "Exact Site                  926 non-null object\n",
      "Lat                         325 non-null float64\n",
      "Lon                         326 non-null float64\n",
      "Elev                        287 non-null float64\n",
      "Elevation Precision         30 non-null float64\n",
      "GPS Source                  1 non-null object\n",
      "Collection Date Accuracy    322 non-null float64\n",
      "Habitat                     63 non-null object\n",
      "Sampling Protocol           141 non-null object\n",
      "Collection Notes            73 non-null object\n",
      "dtypes: float64(6), int64(1), object(42)\n",
      "memory usage: 360.3+ KB\n"
     ]
    }
   ],
   "source": [
    "bold_df = pd.read_csv('processed_data/asilo_bold.tsv', sep='\\t')\n",
    "bold_df.info()"
   ]
  },
  {
   "cell_type": "code",
   "execution_count": 12,
   "metadata": {},
   "outputs": [
    {
     "data": {
      "text/html": [
       "<div>\n",
       "<style scoped>\n",
       "    .dataframe tbody tr th:only-of-type {\n",
       "        vertical-align: middle;\n",
       "    }\n",
       "\n",
       "    .dataframe tbody tr th {\n",
       "        vertical-align: top;\n",
       "    }\n",
       "\n",
       "    .dataframe thead th {\n",
       "        text-align: right;\n",
       "    }\n",
       "</style>\n",
       "<table border=\"1\" class=\"dataframe\">\n",
       "  <thead>\n",
       "    <tr style=\"text-align: right;\">\n",
       "      <th></th>\n",
       "      <th>Phylum</th>\n",
       "      <th>Class</th>\n",
       "      <th>Order</th>\n",
       "      <th>Family</th>\n",
       "      <th>Subfamily</th>\n",
       "      <th>Genus</th>\n",
       "      <th>Species</th>\n",
       "      <th>tax_count</th>\n",
       "    </tr>\n",
       "  </thead>\n",
       "  <tbody>\n",
       "    <tr>\n",
       "      <th>0</th>\n",
       "      <td>Arthropoda</td>\n",
       "      <td>Insecta</td>\n",
       "      <td>Diptera</td>\n",
       "      <td>Acroceridae</td>\n",
       "      <td>Acrocerinae</td>\n",
       "      <td>Ogcodes</td>\n",
       "      <td>Ogcodes dispar</td>\n",
       "      <td>1</td>\n",
       "    </tr>\n",
       "    <tr>\n",
       "      <th>1</th>\n",
       "      <td>Arthropoda</td>\n",
       "      <td>Insecta</td>\n",
       "      <td>Diptera</td>\n",
       "      <td>Acroceridae</td>\n",
       "      <td>Acrocerinae</td>\n",
       "      <td>Psilodera</td>\n",
       "      <td>Psilodera confusa</td>\n",
       "      <td>1</td>\n",
       "    </tr>\n",
       "    <tr>\n",
       "      <th>2</th>\n",
       "      <td>Arthropoda</td>\n",
       "      <td>Insecta</td>\n",
       "      <td>Diptera</td>\n",
       "      <td>Acroceridae</td>\n",
       "      <td>Acrocerinae</td>\n",
       "      <td>Turbopsebius</td>\n",
       "      <td>Turbopsebius brunnipennis</td>\n",
       "      <td>1</td>\n",
       "    </tr>\n",
       "    <tr>\n",
       "      <th>3</th>\n",
       "      <td>Arthropoda</td>\n",
       "      <td>Insecta</td>\n",
       "      <td>Diptera</td>\n",
       "      <td>Acroceridae</td>\n",
       "      <td>Panopinae</td>\n",
       "      <td>Apsona</td>\n",
       "      <td>Apsona muscaria</td>\n",
       "      <td>1</td>\n",
       "    </tr>\n",
       "    <tr>\n",
       "      <th>4</th>\n",
       "      <td>Arthropoda</td>\n",
       "      <td>Insecta</td>\n",
       "      <td>Diptera</td>\n",
       "      <td>Acroceridae</td>\n",
       "      <td>Panopinae</td>\n",
       "      <td>Eulonchus</td>\n",
       "      <td>Eulonchus smaragdinus</td>\n",
       "      <td>1</td>\n",
       "    </tr>\n",
       "  </tbody>\n",
       "</table>\n",
       "</div>"
      ],
      "text/plain": [
       "       Phylum    Class    Order       Family    Subfamily         Genus  \\\n",
       "0  Arthropoda  Insecta  Diptera  Acroceridae  Acrocerinae       Ogcodes   \n",
       "1  Arthropoda  Insecta  Diptera  Acroceridae  Acrocerinae     Psilodera   \n",
       "2  Arthropoda  Insecta  Diptera  Acroceridae  Acrocerinae  Turbopsebius   \n",
       "3  Arthropoda  Insecta  Diptera  Acroceridae    Panopinae        Apsona   \n",
       "4  Arthropoda  Insecta  Diptera  Acroceridae    Panopinae     Eulonchus   \n",
       "\n",
       "                     Species  tax_count  \n",
       "0             Ogcodes dispar          1  \n",
       "1          Psilodera confusa          1  \n",
       "2  Turbopsebius brunnipennis          1  \n",
       "3            Apsona muscaria          1  \n",
       "4      Eulonchus smaragdinus          1  "
      ]
     },
     "execution_count": 12,
     "metadata": {},
     "output_type": "execute_result"
    }
   ],
   "source": [
    "tax_cols = ['Phylum','Class','Order','Family','Subfamily','Genus','Species']\n",
    "bold_tax = bold_df.groupby(tax_cols).size().reset_index(name='tax_count')\n",
    "bold_tax.head()"
   ]
  },
  {
   "cell_type": "code",
   "execution_count": 13,
   "metadata": {},
   "outputs": [
    {
     "data": {
      "text/plain": [
       "553"
      ]
     },
     "execution_count": 13,
     "metadata": {},
     "output_type": "execute_result"
    }
   ],
   "source": [
    "len(bold_tax)"
   ]
  },
  {
   "cell_type": "code",
   "execution_count": 14,
   "metadata": {},
   "outputs": [],
   "source": [
    "bold_tax = bold_tax.rename(columns={'Species':'Scientific Name'})"
   ]
  },
  {
   "cell_type": "code",
   "execution_count": 15,
   "metadata": {},
   "outputs": [
    {
     "data": {
      "text/html": [
       "<div>\n",
       "<style scoped>\n",
       "    .dataframe tbody tr th:only-of-type {\n",
       "        vertical-align: middle;\n",
       "    }\n",
       "\n",
       "    .dataframe tbody tr th {\n",
       "        vertical-align: top;\n",
       "    }\n",
       "\n",
       "    .dataframe thead th {\n",
       "        text-align: right;\n",
       "    }\n",
       "</style>\n",
       "<table border=\"1\" class=\"dataframe\">\n",
       "  <thead>\n",
       "    <tr style=\"text-align: right;\">\n",
       "      <th></th>\n",
       "      <th>Genus</th>\n",
       "      <th>Scientific Name</th>\n",
       "      <th>Species</th>\n",
       "    </tr>\n",
       "  </thead>\n",
       "  <tbody>\n",
       "    <tr>\n",
       "      <th>0</th>\n",
       "      <td>Ogcodes</td>\n",
       "      <td>Ogcodes dispar</td>\n",
       "      <td>dispar</td>\n",
       "    </tr>\n",
       "    <tr>\n",
       "      <th>1</th>\n",
       "      <td>Psilodera</td>\n",
       "      <td>Psilodera confusa</td>\n",
       "      <td>confusa</td>\n",
       "    </tr>\n",
       "    <tr>\n",
       "      <th>2</th>\n",
       "      <td>Turbopsebius</td>\n",
       "      <td>Turbopsebius brunnipennis</td>\n",
       "      <td>brunnipennis</td>\n",
       "    </tr>\n",
       "    <tr>\n",
       "      <th>3</th>\n",
       "      <td>Apsona</td>\n",
       "      <td>Apsona muscaria</td>\n",
       "      <td>muscaria</td>\n",
       "    </tr>\n",
       "    <tr>\n",
       "      <th>4</th>\n",
       "      <td>Eulonchus</td>\n",
       "      <td>Eulonchus smaragdinus</td>\n",
       "      <td>smaragdinus</td>\n",
       "    </tr>\n",
       "  </tbody>\n",
       "</table>\n",
       "</div>"
      ],
      "text/plain": [
       "          Genus            Scientific Name       Species\n",
       "0       Ogcodes             Ogcodes dispar        dispar\n",
       "1     Psilodera          Psilodera confusa       confusa\n",
       "2  Turbopsebius  Turbopsebius brunnipennis  brunnipennis\n",
       "3        Apsona            Apsona muscaria      muscaria\n",
       "4     Eulonchus      Eulonchus smaragdinus   smaragdinus"
      ]
     },
     "execution_count": 15,
     "metadata": {},
     "output_type": "execute_result"
    }
   ],
   "source": [
    "bold_tax['Species'] = bold_tax['Scientific Name'].str.split(' ').str.get(1)\n",
    "bold_tax['Species'] = bold_tax['Species'].replace({'sp.':np.nan,\n",
    "                                                 'spp.':np.nan})\n",
    "bold_tax['Species'] = bold_tax['Species'].fillna('unidentified')\n",
    "bold_tax[['Genus','Scientific Name','Species']].head()"
   ]
  },
  {
   "cell_type": "code",
   "execution_count": 16,
   "metadata": {},
   "outputs": [
    {
     "data": {
      "text/plain": [
       "11"
      ]
     },
     "execution_count": 16,
     "metadata": {},
     "output_type": "execute_result"
    }
   ],
   "source": [
    "len(bold_tax[bold_tax['Species'] == 'unidentified'])"
   ]
  },
  {
   "cell_type": "code",
   "execution_count": 17,
   "metadata": {},
   "outputs": [],
   "source": [
    "def bold_name(row):\n",
    "    if pd.notnull('Genus'):\n",
    "        return \"{} {}\".format(row['Genus'], row['Species'])\n",
    "    else:\n",
    "        return \"{} {}\".format(row['Family'], row['Species'])"
   ]
  },
  {
   "cell_type": "code",
   "execution_count": 18,
   "metadata": {},
   "outputs": [
    {
     "data": {
      "text/html": [
       "<div>\n",
       "<style scoped>\n",
       "    .dataframe tbody tr th:only-of-type {\n",
       "        vertical-align: middle;\n",
       "    }\n",
       "\n",
       "    .dataframe tbody tr th {\n",
       "        vertical-align: top;\n",
       "    }\n",
       "\n",
       "    .dataframe thead th {\n",
       "        text-align: right;\n",
       "    }\n",
       "</style>\n",
       "<table border=\"1\" class=\"dataframe\">\n",
       "  <thead>\n",
       "    <tr style=\"text-align: right;\">\n",
       "      <th></th>\n",
       "      <th>Phylum</th>\n",
       "      <th>Class</th>\n",
       "      <th>Order</th>\n",
       "      <th>Family</th>\n",
       "      <th>Subfamily</th>\n",
       "      <th>Genus</th>\n",
       "      <th>Scientific Name</th>\n",
       "      <th>tax_count</th>\n",
       "      <th>Species</th>\n",
       "      <th>BOLD Name</th>\n",
       "    </tr>\n",
       "  </thead>\n",
       "  <tbody>\n",
       "    <tr>\n",
       "      <th>0</th>\n",
       "      <td>Arthropoda</td>\n",
       "      <td>Insecta</td>\n",
       "      <td>Diptera</td>\n",
       "      <td>Acroceridae</td>\n",
       "      <td>Acrocerinae</td>\n",
       "      <td>Ogcodes</td>\n",
       "      <td>Ogcodes dispar</td>\n",
       "      <td>1</td>\n",
       "      <td>dispar</td>\n",
       "      <td>Ogcodes dispar</td>\n",
       "    </tr>\n",
       "    <tr>\n",
       "      <th>1</th>\n",
       "      <td>Arthropoda</td>\n",
       "      <td>Insecta</td>\n",
       "      <td>Diptera</td>\n",
       "      <td>Acroceridae</td>\n",
       "      <td>Acrocerinae</td>\n",
       "      <td>Psilodera</td>\n",
       "      <td>Psilodera confusa</td>\n",
       "      <td>1</td>\n",
       "      <td>confusa</td>\n",
       "      <td>Psilodera confusa</td>\n",
       "    </tr>\n",
       "    <tr>\n",
       "      <th>2</th>\n",
       "      <td>Arthropoda</td>\n",
       "      <td>Insecta</td>\n",
       "      <td>Diptera</td>\n",
       "      <td>Acroceridae</td>\n",
       "      <td>Acrocerinae</td>\n",
       "      <td>Turbopsebius</td>\n",
       "      <td>Turbopsebius brunnipennis</td>\n",
       "      <td>1</td>\n",
       "      <td>brunnipennis</td>\n",
       "      <td>Turbopsebius brunnipennis</td>\n",
       "    </tr>\n",
       "    <tr>\n",
       "      <th>3</th>\n",
       "      <td>Arthropoda</td>\n",
       "      <td>Insecta</td>\n",
       "      <td>Diptera</td>\n",
       "      <td>Acroceridae</td>\n",
       "      <td>Panopinae</td>\n",
       "      <td>Apsona</td>\n",
       "      <td>Apsona muscaria</td>\n",
       "      <td>1</td>\n",
       "      <td>muscaria</td>\n",
       "      <td>Apsona muscaria</td>\n",
       "    </tr>\n",
       "    <tr>\n",
       "      <th>4</th>\n",
       "      <td>Arthropoda</td>\n",
       "      <td>Insecta</td>\n",
       "      <td>Diptera</td>\n",
       "      <td>Acroceridae</td>\n",
       "      <td>Panopinae</td>\n",
       "      <td>Eulonchus</td>\n",
       "      <td>Eulonchus smaragdinus</td>\n",
       "      <td>1</td>\n",
       "      <td>smaragdinus</td>\n",
       "      <td>Eulonchus smaragdinus</td>\n",
       "    </tr>\n",
       "  </tbody>\n",
       "</table>\n",
       "</div>"
      ],
      "text/plain": [
       "       Phylum    Class    Order       Family    Subfamily         Genus  \\\n",
       "0  Arthropoda  Insecta  Diptera  Acroceridae  Acrocerinae       Ogcodes   \n",
       "1  Arthropoda  Insecta  Diptera  Acroceridae  Acrocerinae     Psilodera   \n",
       "2  Arthropoda  Insecta  Diptera  Acroceridae  Acrocerinae  Turbopsebius   \n",
       "3  Arthropoda  Insecta  Diptera  Acroceridae    Panopinae        Apsona   \n",
       "4  Arthropoda  Insecta  Diptera  Acroceridae    Panopinae     Eulonchus   \n",
       "\n",
       "             Scientific Name  tax_count       Species  \\\n",
       "0             Ogcodes dispar          1        dispar   \n",
       "1          Psilodera confusa          1       confusa   \n",
       "2  Turbopsebius brunnipennis          1  brunnipennis   \n",
       "3            Apsona muscaria          1      muscaria   \n",
       "4      Eulonchus smaragdinus          1   smaragdinus   \n",
       "\n",
       "                   BOLD Name  \n",
       "0             Ogcodes dispar  \n",
       "1          Psilodera confusa  \n",
       "2  Turbopsebius brunnipennis  \n",
       "3            Apsona muscaria  \n",
       "4      Eulonchus smaragdinus  "
      ]
     },
     "execution_count": 18,
     "metadata": {},
     "output_type": "execute_result"
    }
   ],
   "source": [
    "bold_tax['BOLD Name'] = bold_tax.apply(bold_name, axis=1)\n",
    "bold_tax.head()"
   ]
  },
  {
   "cell_type": "code",
   "execution_count": null,
   "metadata": {},
   "outputs": [],
   "source": []
  },
  {
   "cell_type": "code",
   "execution_count": null,
   "metadata": {},
   "outputs": [],
   "source": []
  },
  {
   "cell_type": "code",
   "execution_count": null,
   "metadata": {},
   "outputs": [],
   "source": []
  },
  {
   "cell_type": "markdown",
   "metadata": {},
   "source": [
    "## Read in EMu taxonomy file"
   ]
  },
  {
   "cell_type": "code",
   "execution_count": 19,
   "metadata": {},
   "outputs": [
    {
     "name": "stderr",
     "output_type": "stream",
     "text": [
      "/Users/miketrizna/miniconda3/envs/emu/lib/python3.6/site-packages/IPython/core/interactiveshell.py:3018: DtypeWarning: Columns (10) have mixed types. Specify dtype option on import or set low_memory=False.\n",
      "  interactivity=interactivity, compiler=compiler, result=result)\n"
     ]
    },
    {
     "name": "stdout",
     "output_type": "stream",
     "text": [
      "<class 'pandas.core.frame.DataFrame'>\n",
      "RangeIndex: 310392 entries, 0 to 310391\n",
      "Data columns (total 19 columns):\n",
      "etaxonomy_key              310392 non-null int64\n",
      "irn                        310392 non-null int64\n",
      "ClaKingdom                 309832 non-null object\n",
      "ClaPhylum                  309832 non-null object\n",
      "ClaClass                   309001 non-null object\n",
      "ClaOrder                   309693 non-null object\n",
      "ClaSuperfamily             21349 non-null object\n",
      "ClaFamily                  309731 non-null object\n",
      "ClaSubfamily               130757 non-null object\n",
      "ClaTribe                   64984 non-null object\n",
      "ClaSubtribe                7359 non-null object\n",
      "ClaGenus                   305059 non-null object\n",
      "ClaSubgenus                24540 non-null object\n",
      "ClaSpecies                 304319 non-null object\n",
      "AutAuthorString            288189 non-null object\n",
      "AdmPublishWebNoPassword    310392 non-null object\n",
      "AdmPublishWebPassword      310392 non-null object\n",
      "AdmDateModified            310392 non-null object\n",
      "AdmDateInserted            310392 non-null object\n",
      "dtypes: int64(2), object(17)\n",
      "memory usage: 45.0+ MB\n"
     ]
    }
   ],
   "source": [
    "emu_tax_base = pd.read_csv('raw_data/Taxonomy/etaxonom_clean.csv')\n",
    "emu_tax_base.info()"
   ]
  },
  {
   "cell_type": "code",
   "execution_count": 20,
   "metadata": {},
   "outputs": [
    {
     "data": {
      "text/plain": [
       "6649"
      ]
     },
     "execution_count": 20,
     "metadata": {},
     "output_type": "execute_result"
    }
   ],
   "source": [
    "len(emu_tax_base[emu_tax_base['ClaSpecies'] == 'unidentified'])"
   ]
  },
  {
   "cell_type": "markdown",
   "metadata": {},
   "source": [
    "## Match up species with EMu taxonomy"
   ]
  },
  {
   "cell_type": "code",
   "execution_count": 21,
   "metadata": {},
   "outputs": [
    {
     "data": {
      "text/plain": [
       "163"
      ]
     },
     "execution_count": 21,
     "metadata": {},
     "output_type": "execute_result"
    }
   ],
   "source": [
    "merged = emu_tax_base.merge(bold_tax, left_on=['ClaFamily','ClaGenus','ClaSpecies'],\n",
    "                            right_on=['Family','Genus','Species'])\n",
    "len(merged)"
   ]
  },
  {
   "cell_type": "code",
   "execution_count": 22,
   "metadata": {},
   "outputs": [
    {
     "data": {
      "text/html": [
       "<div>\n",
       "<style scoped>\n",
       "    .dataframe tbody tr th:only-of-type {\n",
       "        vertical-align: middle;\n",
       "    }\n",
       "\n",
       "    .dataframe tbody tr th {\n",
       "        vertical-align: top;\n",
       "    }\n",
       "\n",
       "    .dataframe thead th {\n",
       "        text-align: right;\n",
       "    }\n",
       "</style>\n",
       "<table border=\"1\" class=\"dataframe\">\n",
       "  <thead>\n",
       "    <tr style=\"text-align: right;\">\n",
       "      <th></th>\n",
       "      <th>etaxonomy_key</th>\n",
       "      <th>irn</th>\n",
       "      <th>ClaKingdom</th>\n",
       "      <th>ClaPhylum</th>\n",
       "      <th>ClaClass</th>\n",
       "      <th>ClaOrder</th>\n",
       "      <th>ClaSuperfamily</th>\n",
       "      <th>ClaFamily</th>\n",
       "      <th>ClaSubfamily</th>\n",
       "      <th>ClaTribe</th>\n",
       "      <th>...</th>\n",
       "      <th>Phylum</th>\n",
       "      <th>Class</th>\n",
       "      <th>Order</th>\n",
       "      <th>Family</th>\n",
       "      <th>Subfamily</th>\n",
       "      <th>Genus</th>\n",
       "      <th>Scientific Name</th>\n",
       "      <th>tax_count</th>\n",
       "      <th>Species</th>\n",
       "      <th>BOLD Name</th>\n",
       "    </tr>\n",
       "  </thead>\n",
       "  <tbody>\n",
       "    <tr>\n",
       "      <th>0</th>\n",
       "      <td>1476</td>\n",
       "      <td>9100466</td>\n",
       "      <td>Animalia</td>\n",
       "      <td>Arthropoda</td>\n",
       "      <td>Insecta</td>\n",
       "      <td>Diptera</td>\n",
       "      <td>NaN</td>\n",
       "      <td>Sarcophagidae</td>\n",
       "      <td>NaN</td>\n",
       "      <td>NaN</td>\n",
       "      <td>...</td>\n",
       "      <td>Arthropoda</td>\n",
       "      <td>Insecta</td>\n",
       "      <td>Diptera</td>\n",
       "      <td>Sarcophagidae</td>\n",
       "      <td>Miltogramminae</td>\n",
       "      <td>Phrosinella</td>\n",
       "      <td>Phrosinella aurifacies</td>\n",
       "      <td>1</td>\n",
       "      <td>aurifacies</td>\n",
       "      <td>Phrosinella aurifacies</td>\n",
       "    </tr>\n",
       "    <tr>\n",
       "      <th>1</th>\n",
       "      <td>5234</td>\n",
       "      <td>9132109</td>\n",
       "      <td>Animalia</td>\n",
       "      <td>Arthropoda</td>\n",
       "      <td>Insecta</td>\n",
       "      <td>Diptera</td>\n",
       "      <td>NaN</td>\n",
       "      <td>Tachinidae</td>\n",
       "      <td>NaN</td>\n",
       "      <td>NaN</td>\n",
       "      <td>...</td>\n",
       "      <td>Arthropoda</td>\n",
       "      <td>Insecta</td>\n",
       "      <td>Diptera</td>\n",
       "      <td>Tachinidae</td>\n",
       "      <td>Dexiinae</td>\n",
       "      <td>Chaetoplagia</td>\n",
       "      <td>Chaetoplagia atripennis</td>\n",
       "      <td>1</td>\n",
       "      <td>atripennis</td>\n",
       "      <td>Chaetoplagia atripennis</td>\n",
       "    </tr>\n",
       "    <tr>\n",
       "      <th>2</th>\n",
       "      <td>10867</td>\n",
       "      <td>9199856</td>\n",
       "      <td>Animalia</td>\n",
       "      <td>Arthropoda</td>\n",
       "      <td>Insecta</td>\n",
       "      <td>Diptera</td>\n",
       "      <td>NaN</td>\n",
       "      <td>Sarcophagidae</td>\n",
       "      <td>NaN</td>\n",
       "      <td>NaN</td>\n",
       "      <td>...</td>\n",
       "      <td>Arthropoda</td>\n",
       "      <td>Insecta</td>\n",
       "      <td>Diptera</td>\n",
       "      <td>Sarcophagidae</td>\n",
       "      <td>Agriinae</td>\n",
       "      <td>Agria</td>\n",
       "      <td>Agria affinis</td>\n",
       "      <td>1</td>\n",
       "      <td>affinis</td>\n",
       "      <td>Agria affinis</td>\n",
       "    </tr>\n",
       "    <tr>\n",
       "      <th>3</th>\n",
       "      <td>15673</td>\n",
       "      <td>9140991</td>\n",
       "      <td>Animalia</td>\n",
       "      <td>Arthropoda</td>\n",
       "      <td>Insecta</td>\n",
       "      <td>Diptera</td>\n",
       "      <td>NaN</td>\n",
       "      <td>Acroceridae</td>\n",
       "      <td>NaN</td>\n",
       "      <td>NaN</td>\n",
       "      <td>...</td>\n",
       "      <td>Arthropoda</td>\n",
       "      <td>Insecta</td>\n",
       "      <td>Diptera</td>\n",
       "      <td>Acroceridae</td>\n",
       "      <td>Panopinae</td>\n",
       "      <td>Eulonchus</td>\n",
       "      <td>Eulonchus smaragdinus</td>\n",
       "      <td>1</td>\n",
       "      <td>smaragdinus</td>\n",
       "      <td>Eulonchus smaragdinus</td>\n",
       "    </tr>\n",
       "    <tr>\n",
       "      <th>4</th>\n",
       "      <td>15770</td>\n",
       "      <td>9132265</td>\n",
       "      <td>Animalia</td>\n",
       "      <td>Arthropoda</td>\n",
       "      <td>Insecta</td>\n",
       "      <td>Diptera</td>\n",
       "      <td>NaN</td>\n",
       "      <td>Calliphoridae</td>\n",
       "      <td>NaN</td>\n",
       "      <td>NaN</td>\n",
       "      <td>...</td>\n",
       "      <td>Arthropoda</td>\n",
       "      <td>Insecta</td>\n",
       "      <td>Diptera</td>\n",
       "      <td>Calliphoridae</td>\n",
       "      <td>Calliphorinae</td>\n",
       "      <td>Cyanus</td>\n",
       "      <td>Cyanus elongatus</td>\n",
       "      <td>1</td>\n",
       "      <td>elongatus</td>\n",
       "      <td>Cyanus elongatus</td>\n",
       "    </tr>\n",
       "  </tbody>\n",
       "</table>\n",
       "<p>5 rows × 29 columns</p>\n",
       "</div>"
      ],
      "text/plain": [
       "   etaxonomy_key      irn ClaKingdom   ClaPhylum ClaClass ClaOrder  \\\n",
       "0           1476  9100466   Animalia  Arthropoda  Insecta  Diptera   \n",
       "1           5234  9132109   Animalia  Arthropoda  Insecta  Diptera   \n",
       "2          10867  9199856   Animalia  Arthropoda  Insecta  Diptera   \n",
       "3          15673  9140991   Animalia  Arthropoda  Insecta  Diptera   \n",
       "4          15770  9132265   Animalia  Arthropoda  Insecta  Diptera   \n",
       "\n",
       "  ClaSuperfamily      ClaFamily ClaSubfamily ClaTribe  \\\n",
       "0            NaN  Sarcophagidae          NaN      NaN   \n",
       "1            NaN     Tachinidae          NaN      NaN   \n",
       "2            NaN  Sarcophagidae          NaN      NaN   \n",
       "3            NaN    Acroceridae          NaN      NaN   \n",
       "4            NaN  Calliphoridae          NaN      NaN   \n",
       "\n",
       "            ...                 Phylum    Class    Order         Family  \\\n",
       "0           ...             Arthropoda  Insecta  Diptera  Sarcophagidae   \n",
       "1           ...             Arthropoda  Insecta  Diptera     Tachinidae   \n",
       "2           ...             Arthropoda  Insecta  Diptera  Sarcophagidae   \n",
       "3           ...             Arthropoda  Insecta  Diptera    Acroceridae   \n",
       "4           ...             Arthropoda  Insecta  Diptera  Calliphoridae   \n",
       "\n",
       "        Subfamily         Genus          Scientific Name tax_count  \\\n",
       "0  Miltogramminae   Phrosinella   Phrosinella aurifacies         1   \n",
       "1        Dexiinae  Chaetoplagia  Chaetoplagia atripennis         1   \n",
       "2        Agriinae         Agria            Agria affinis         1   \n",
       "3       Panopinae     Eulonchus    Eulonchus smaragdinus         1   \n",
       "4   Calliphorinae        Cyanus         Cyanus elongatus         1   \n",
       "\n",
       "       Species                BOLD Name  \n",
       "0   aurifacies   Phrosinella aurifacies  \n",
       "1   atripennis  Chaetoplagia atripennis  \n",
       "2      affinis            Agria affinis  \n",
       "3  smaragdinus    Eulonchus smaragdinus  \n",
       "4    elongatus         Cyanus elongatus  \n",
       "\n",
       "[5 rows x 29 columns]"
      ]
     },
     "execution_count": 22,
     "metadata": {},
     "output_type": "execute_result"
    }
   ],
   "source": [
    "merged.head()"
   ]
  },
  {
   "cell_type": "markdown",
   "metadata": {},
   "source": [
    "## Export matched species, and new species to upload"
   ]
  },
  {
   "cell_type": "code",
   "execution_count": 23,
   "metadata": {},
   "outputs": [
    {
     "data": {
      "text/plain": [
       "392"
      ]
     },
     "execution_count": 23,
     "metadata": {},
     "output_type": "execute_result"
    }
   ],
   "source": [
    "matched_names = merged['BOLD Name'].tolist()\n",
    "not_matched = bold_tax[~bold_tax['BOLD Name'].isin(matched_names)]\n",
    "len(not_matched)"
   ]
  },
  {
   "cell_type": "code",
   "execution_count": 24,
   "metadata": {},
   "outputs": [],
   "source": [
    "not_matched.to_csv('processed_data/taxa_unmatched.tsv', sep='\\t', index=False)"
   ]
  },
  {
   "cell_type": "code",
   "execution_count": 30,
   "metadata": {},
   "outputs": [
    {
     "name": "stdout",
     "output_type": "stream",
     "text": [
      "388\n",
      "4\n"
     ]
    }
   ],
   "source": [
    "print(len(not_matched[not_matched['Species'] != 'unidentified']))\n",
    "print(len(not_matched[not_matched['Species'] == 'unidentified']))"
   ]
  },
  {
   "cell_type": "code",
   "execution_count": 25,
   "metadata": {},
   "outputs": [
    {
     "data": {
      "text/html": [
       "<div>\n",
       "<style scoped>\n",
       "    .dataframe tbody tr th:only-of-type {\n",
       "        vertical-align: middle;\n",
       "    }\n",
       "\n",
       "    .dataframe tbody tr th {\n",
       "        vertical-align: top;\n",
       "    }\n",
       "\n",
       "    .dataframe thead th {\n",
       "        text-align: right;\n",
       "    }\n",
       "</style>\n",
       "<table border=\"1\" class=\"dataframe\">\n",
       "  <thead>\n",
       "    <tr style=\"text-align: right;\">\n",
       "      <th></th>\n",
       "      <th>Phylum</th>\n",
       "      <th>Class</th>\n",
       "      <th>Order</th>\n",
       "      <th>Family</th>\n",
       "      <th>Subfamily</th>\n",
       "      <th>Genus</th>\n",
       "      <th>Scientific Name</th>\n",
       "      <th>tax_count</th>\n",
       "      <th>Species</th>\n",
       "      <th>BOLD Name</th>\n",
       "      <th>irn</th>\n",
       "    </tr>\n",
       "  </thead>\n",
       "  <tbody>\n",
       "    <tr>\n",
       "      <th>0</th>\n",
       "      <td>Arthropoda</td>\n",
       "      <td>Insecta</td>\n",
       "      <td>Diptera</td>\n",
       "      <td>Sarcophagidae</td>\n",
       "      <td>Miltogramminae</td>\n",
       "      <td>Phrosinella</td>\n",
       "      <td>Phrosinella aurifacies</td>\n",
       "      <td>1</td>\n",
       "      <td>aurifacies</td>\n",
       "      <td>Phrosinella aurifacies</td>\n",
       "      <td>9100466</td>\n",
       "    </tr>\n",
       "    <tr>\n",
       "      <th>1</th>\n",
       "      <td>Arthropoda</td>\n",
       "      <td>Insecta</td>\n",
       "      <td>Diptera</td>\n",
       "      <td>Tachinidae</td>\n",
       "      <td>Dexiinae</td>\n",
       "      <td>Chaetoplagia</td>\n",
       "      <td>Chaetoplagia atripennis</td>\n",
       "      <td>1</td>\n",
       "      <td>atripennis</td>\n",
       "      <td>Chaetoplagia atripennis</td>\n",
       "      <td>9132109</td>\n",
       "    </tr>\n",
       "    <tr>\n",
       "      <th>2</th>\n",
       "      <td>Arthropoda</td>\n",
       "      <td>Insecta</td>\n",
       "      <td>Diptera</td>\n",
       "      <td>Sarcophagidae</td>\n",
       "      <td>Agriinae</td>\n",
       "      <td>Agria</td>\n",
       "      <td>Agria affinis</td>\n",
       "      <td>1</td>\n",
       "      <td>affinis</td>\n",
       "      <td>Agria affinis</td>\n",
       "      <td>9199856</td>\n",
       "    </tr>\n",
       "    <tr>\n",
       "      <th>3</th>\n",
       "      <td>Arthropoda</td>\n",
       "      <td>Insecta</td>\n",
       "      <td>Diptera</td>\n",
       "      <td>Acroceridae</td>\n",
       "      <td>Panopinae</td>\n",
       "      <td>Eulonchus</td>\n",
       "      <td>Eulonchus smaragdinus</td>\n",
       "      <td>1</td>\n",
       "      <td>smaragdinus</td>\n",
       "      <td>Eulonchus smaragdinus</td>\n",
       "      <td>9140991</td>\n",
       "    </tr>\n",
       "    <tr>\n",
       "      <th>4</th>\n",
       "      <td>Arthropoda</td>\n",
       "      <td>Insecta</td>\n",
       "      <td>Diptera</td>\n",
       "      <td>Calliphoridae</td>\n",
       "      <td>Calliphorinae</td>\n",
       "      <td>Cyanus</td>\n",
       "      <td>Cyanus elongatus</td>\n",
       "      <td>1</td>\n",
       "      <td>elongatus</td>\n",
       "      <td>Cyanus elongatus</td>\n",
       "      <td>9132265</td>\n",
       "    </tr>\n",
       "  </tbody>\n",
       "</table>\n",
       "</div>"
      ],
      "text/plain": [
       "       Phylum    Class    Order         Family       Subfamily         Genus  \\\n",
       "0  Arthropoda  Insecta  Diptera  Sarcophagidae  Miltogramminae   Phrosinella   \n",
       "1  Arthropoda  Insecta  Diptera     Tachinidae        Dexiinae  Chaetoplagia   \n",
       "2  Arthropoda  Insecta  Diptera  Sarcophagidae        Agriinae         Agria   \n",
       "3  Arthropoda  Insecta  Diptera    Acroceridae       Panopinae     Eulonchus   \n",
       "4  Arthropoda  Insecta  Diptera  Calliphoridae   Calliphorinae        Cyanus   \n",
       "\n",
       "           Scientific Name  tax_count      Species                BOLD Name  \\\n",
       "0   Phrosinella aurifacies          1   aurifacies   Phrosinella aurifacies   \n",
       "1  Chaetoplagia atripennis          1   atripennis  Chaetoplagia atripennis   \n",
       "2            Agria affinis          1      affinis            Agria affinis   \n",
       "3    Eulonchus smaragdinus          1  smaragdinus    Eulonchus smaragdinus   \n",
       "4         Cyanus elongatus          1    elongatus         Cyanus elongatus   \n",
       "\n",
       "       irn  \n",
       "0  9100466  \n",
       "1  9132109  \n",
       "2  9199856  \n",
       "3  9140991  \n",
       "4  9132265  "
      ]
     },
     "execution_count": 25,
     "metadata": {},
     "output_type": "execute_result"
    }
   ],
   "source": [
    "matched_cols = list(bold_tax.columns) + ['irn']\n",
    "matched_tax = merged[matched_cols]\n",
    "matched_tax.head()"
   ]
  },
  {
   "cell_type": "code",
   "execution_count": 26,
   "metadata": {},
   "outputs": [],
   "source": [
    "matched_tax.to_csv('processed_data/taxa_matched.tsv', sep='\\t', index=False)"
   ]
  },
  {
   "cell_type": "code",
   "execution_count": 29,
   "metadata": {},
   "outputs": [
    {
     "data": {
      "text/plain": [
       "156"
      ]
     },
     "execution_count": 29,
     "metadata": {},
     "output_type": "execute_result"
    }
   ],
   "source": [
    "len(matched_tax[matched_tax['Species'] != 'unidentified'])"
   ]
  },
  {
   "cell_type": "code",
   "execution_count": 27,
   "metadata": {},
   "outputs": [
    {
     "data": {
      "text/plain": [
       "7"
      ]
     },
     "execution_count": 27,
     "metadata": {},
     "output_type": "execute_result"
    }
   ],
   "source": [
    "len(matched_tax[matched_tax['Species'] == 'unidentified'])"
   ]
  },
  {
   "cell_type": "code",
   "execution_count": null,
   "metadata": {},
   "outputs": [],
   "source": []
  }
 ],
 "metadata": {
  "kernelspec": {
   "display_name": "Python 3",
   "language": "python",
   "name": "python3"
  },
  "language_info": {
   "codemirror_mode": {
    "name": "ipython",
    "version": 3
   },
   "file_extension": ".py",
   "mimetype": "text/x-python",
   "name": "python",
   "nbconvert_exporter": "python",
   "pygments_lexer": "ipython3",
   "version": "3.6.6"
  }
 },
 "nbformat": 4,
 "nbformat_minor": 2
}
